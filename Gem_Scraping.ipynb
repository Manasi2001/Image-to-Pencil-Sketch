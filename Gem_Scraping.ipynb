{
 "cells": [
  {
   "cell_type": "code",
   "execution_count": 1,
   "metadata": {},
   "outputs": [],
   "source": [
    "import pandas as pd\n",
    "import numpy as np\n",
    "import requests\n",
    "from bs4 import BeautifulSoup\n",
    "from selenium import webdriver\n",
    "from selenium.webdriver.support.select import Select\n",
    "from selenium.webdriver.common.by import By\n",
    "from selenium.webdriver.common.keys import Keys\n",
    "from webdriver_manager.chrome import ChromeDriverManager\n",
    "from selenium.webdriver.support.ui import Select\n",
    "import time\n",
    "from selenium.common.exceptions import NoSuchElementException\n",
    "import tabula\n",
    "from tabula import read_pdf\n",
    "import re"
   ]
  },
  {
   "cell_type": "code",
   "execution_count": 2,
   "id": "11aa1a54",
   "metadata": {},
   "outputs": [
    {
     "data": {
      "text/plain": [
       "'16-01-2023'"
      ]
     },
     "execution_count": 2,
     "metadata": {},
     "output_type": "execute_result"
    }
   ],
   "source": [
    "path = \"D:/OneDrive - Jkmail/Projects/ML_1/Test/\"\n",
    "from datetime import date\n",
    "today = date.today()\n",
    "folder = today.strftime(\"%d-%m-%Y\")\n",
    "folder"
   ]
  },
  {
   "cell_type": "code",
   "execution_count": 3,
   "metadata": {},
   "outputs": [],
   "source": [
    "data = [['tom', 10]]\n",
    "df = pd.DataFrame(data, columns = ['Name', 'Age'])\n",
    "bid_numbers = []"
   ]
  },
  {
   "cell_type": "code",
   "execution_count": 4,
   "metadata": {},
   "outputs": [
    {
     "name": "stderr",
     "output_type": "stream",
     "text": [
      "C:\\Users\\Rishabh\\AppData\\Local\\Temp\\ipykernel_7888\\1744789255.py:4: DeprecationWarning: executable_path has been deprecated, please pass in a Service object\n",
      "  driver=webdriver.Chrome(r\"C:\\Users\\Rishabh\\Downloads\\chromedriver_win32\\chromedriver.exe\")\n"
     ]
    },
    {
     "ename": "InvalidArgumentException",
     "evalue": "Message: invalid argument: invalid locator\n  (Session info: chrome=109.0.5414.75)\nStacktrace:\nBacktrace:\n\t(No symbol) [0x00396643]\n\t(No symbol) [0x0032BE21]\n\t(No symbol) [0x0022DA9D]\n\t(No symbol) [0x002613F3]\n\t(No symbol) [0x0026147B]\n\t(No symbol) [0x00298DC2]\n\t(No symbol) [0x0027FDC4]\n\t(No symbol) [0x00296B09]\n\t(No symbol) [0x0027FB76]\n\t(No symbol) [0x002549C1]\n\t(No symbol) [0x00255E5D]\n\tGetHandleVerifier [0x0060A142+2497106]\n\tGetHandleVerifier [0x006385D3+2686691]\n\tGetHandleVerifier [0x0063BB9C+2700460]\n\tGetHandleVerifier [0x00443B10+635936]\n\t(No symbol) [0x00334A1F]\n\t(No symbol) [0x0033A418]\n\t(No symbol) [0x0033A505]\n\t(No symbol) [0x0034508B]\n\tBaseThreadInitThunk [0x77387D69+25]\n\tRtlInitializeExceptionChain [0x77BFBB9B+107]\n\tRtlClearBits [0x77BFBB1F+191]\n",
     "output_type": "error",
     "traceback": [
      "\u001b[1;31m---------------------------------------------------------------------------\u001b[0m",
      "\u001b[1;31mInvalidArgumentException\u001b[0m                  Traceback (most recent call last)",
      "Cell \u001b[1;32mIn[4], line 7\u001b[0m\n\u001b[0;32m      5\u001b[0m url \u001b[39m=\u001b[39m \u001b[39m'\u001b[39m\u001b[39mhttps://bidplus.gem.gov.in/advance-search\u001b[39m\u001b[39m'\u001b[39m \n\u001b[0;32m      6\u001b[0m driver\u001b[39m.\u001b[39mget(url)\n\u001b[1;32m----> 7\u001b[0m search_1 \u001b[39m=\u001b[39m driver\u001b[39m.\u001b[39;49mfind_element(\u001b[39m'\u001b[39;49m\u001b[39m//*[@id=\u001b[39;49m\u001b[39m\"\u001b[39;49m\u001b[39mselect2-categorybid-container\u001b[39;49m\u001b[39m\"\u001b[39;49m\u001b[39m]\u001b[39;49m\u001b[39m'\u001b[39;49m)\n\u001b[0;32m      8\u001b[0m search_1\u001b[39m.\u001b[39mclick()\n\u001b[0;32m      9\u001b[0m search_2 \u001b[39m=\u001b[39m driver\u001b[39m.\u001b[39mfind_element(\u001b[39m'\u001b[39m\u001b[39m/html/body/span/span/span[1]/input\u001b[39m\u001b[39m'\u001b[39m)\n",
      "File \u001b[1;32md:\\OneDrive - Jkmail\\Projects\\ML_1\\ML\\lib\\site-packages\\selenium\\webdriver\\remote\\webdriver.py:861\u001b[0m, in \u001b[0;36mWebDriver.find_element\u001b[1;34m(self, by, value)\u001b[0m\n\u001b[0;32m    858\u001b[0m     by \u001b[39m=\u001b[39m By\u001b[39m.\u001b[39mCSS_SELECTOR\n\u001b[0;32m    859\u001b[0m     value \u001b[39m=\u001b[39m \u001b[39m'\u001b[39m\u001b[39m[name=\u001b[39m\u001b[39m\"\u001b[39m\u001b[39m%s\u001b[39;00m\u001b[39m\"\u001b[39m\u001b[39m]\u001b[39m\u001b[39m'\u001b[39m \u001b[39m%\u001b[39m value\n\u001b[1;32m--> 861\u001b[0m \u001b[39mreturn\u001b[39;00m \u001b[39mself\u001b[39;49m\u001b[39m.\u001b[39;49mexecute(Command\u001b[39m.\u001b[39;49mFIND_ELEMENT, {\u001b[39m\"\u001b[39;49m\u001b[39musing\u001b[39;49m\u001b[39m\"\u001b[39;49m: by, \u001b[39m\"\u001b[39;49m\u001b[39mvalue\u001b[39;49m\u001b[39m\"\u001b[39;49m: value})[\u001b[39m\"\u001b[39m\u001b[39mvalue\u001b[39m\u001b[39m\"\u001b[39m]\n",
      "File \u001b[1;32md:\\OneDrive - Jkmail\\Projects\\ML_1\\ML\\lib\\site-packages\\selenium\\webdriver\\remote\\webdriver.py:444\u001b[0m, in \u001b[0;36mWebDriver.execute\u001b[1;34m(self, driver_command, params)\u001b[0m\n\u001b[0;32m    442\u001b[0m response \u001b[39m=\u001b[39m \u001b[39mself\u001b[39m\u001b[39m.\u001b[39mcommand_executor\u001b[39m.\u001b[39mexecute(driver_command, params)\n\u001b[0;32m    443\u001b[0m \u001b[39mif\u001b[39;00m response:\n\u001b[1;32m--> 444\u001b[0m     \u001b[39mself\u001b[39;49m\u001b[39m.\u001b[39;49merror_handler\u001b[39m.\u001b[39;49mcheck_response(response)\n\u001b[0;32m    445\u001b[0m     response[\u001b[39m\"\u001b[39m\u001b[39mvalue\u001b[39m\u001b[39m\"\u001b[39m] \u001b[39m=\u001b[39m \u001b[39mself\u001b[39m\u001b[39m.\u001b[39m_unwrap_value(response\u001b[39m.\u001b[39mget(\u001b[39m\"\u001b[39m\u001b[39mvalue\u001b[39m\u001b[39m\"\u001b[39m, \u001b[39mNone\u001b[39;00m))\n\u001b[0;32m    446\u001b[0m     \u001b[39mreturn\u001b[39;00m response\n",
      "File \u001b[1;32md:\\OneDrive - Jkmail\\Projects\\ML_1\\ML\\lib\\site-packages\\selenium\\webdriver\\remote\\errorhandler.py:249\u001b[0m, in \u001b[0;36mErrorHandler.check_response\u001b[1;34m(self, response)\u001b[0m\n\u001b[0;32m    247\u001b[0m         alert_text \u001b[39m=\u001b[39m value[\u001b[39m\"\u001b[39m\u001b[39malert\u001b[39m\u001b[39m\"\u001b[39m]\u001b[39m.\u001b[39mget(\u001b[39m\"\u001b[39m\u001b[39mtext\u001b[39m\u001b[39m\"\u001b[39m)\n\u001b[0;32m    248\u001b[0m     \u001b[39mraise\u001b[39;00m exception_class(message, screen, stacktrace, alert_text)  \u001b[39m# type: ignore[call-arg]  # mypy is not smart enough here\u001b[39;00m\n\u001b[1;32m--> 249\u001b[0m \u001b[39mraise\u001b[39;00m exception_class(message, screen, stacktrace)\n",
      "\u001b[1;31mInvalidArgumentException\u001b[0m: Message: invalid argument: invalid locator\n  (Session info: chrome=109.0.5414.75)\nStacktrace:\nBacktrace:\n\t(No symbol) [0x00396643]\n\t(No symbol) [0x0032BE21]\n\t(No symbol) [0x0022DA9D]\n\t(No symbol) [0x002613F3]\n\t(No symbol) [0x0026147B]\n\t(No symbol) [0x00298DC2]\n\t(No symbol) [0x0027FDC4]\n\t(No symbol) [0x00296B09]\n\t(No symbol) [0x0027FB76]\n\t(No symbol) [0x002549C1]\n\t(No symbol) [0x00255E5D]\n\tGetHandleVerifier [0x0060A142+2497106]\n\tGetHandleVerifier [0x006385D3+2686691]\n\tGetHandleVerifier [0x0063BB9C+2700460]\n\tGetHandleVerifier [0x00443B10+635936]\n\t(No symbol) [0x00334A1F]\n\t(No symbol) [0x0033A418]\n\t(No symbol) [0x0033A505]\n\t(No symbol) [0x0034508B]\n\tBaseThreadInitThunk [0x77387D69+25]\n\tRtlInitializeExceptionChain [0x77BFBB9B+107]\n\tRtlClearBits [0x77BFBB1F+191]\n"
     ]
    }
   ],
   "source": [
    "size_list = ['A4', 'A3']\n",
    "gsm_list = ['75', '80', '70', '100']\n",
    "final=pd.DataFrame()\n",
    "driver=webdriver.Chrome(r\"C:\\Users\\Rishabh\\Downloads\\chromedriver_win32\\chromedriver.exe\")\n",
    "url = 'https://bidplus.gem.gov.in/advance-search' \n",
    "driver.get(url)\n",
    "search_1 = driver.find_element('//*[@id=\"select2-categorybid-container\"]')\n",
    "search_1.click()\n",
    "search_2 = driver.find_element('/html/body/span/span/span[1]/input')\n",
    "search_2.click()\n",
    "search_2.send_keys('plain copier paper Is - 14490 (version 2)')\n",
    "time.sleep(2)\n",
    "enter = driver.find_element(By.CLASS_NAME, \"select2-results__option\")\n",
    "enter.click() \n",
    "search_click = driver.find_element('//*[@id=\"searchByBid\"]')\n",
    "search_click.click()\n",
    "time.sleep(2)"
   ]
  },
  {
   "cell_type": "code",
   "execution_count": null,
   "metadata": {},
   "outputs": [],
   "source": []
  }
 ],
 "metadata": {
  "kernelspec": {
   "display_name": "ML",
   "language": "python",
   "name": "python3"
  },
  "language_info": {
   "codemirror_mode": {
    "name": "ipython",
    "version": 3
   },
   "file_extension": ".py",
   "mimetype": "text/x-python",
   "name": "python",
   "nbconvert_exporter": "python",
   "pygments_lexer": "ipython3",
   "version": "3.10.9 (tags/v3.10.9:1dd9be6, Dec  6 2022, 20:01:21) [MSC v.1934 64 bit (AMD64)]"
  },
  "orig_nbformat": 4,
  "vscode": {
   "interpreter": {
    "hash": "be20483903e289cacec173c19068ca0fc1bc3552df6b3c5b7ce96b73d5a8b214"
   }
  }
 },
 "nbformat": 4,
 "nbformat_minor": 2
}
